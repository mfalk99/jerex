{
 "cells": [
  {
   "cell_type": "code",
   "execution_count": 8,
   "metadata": {},
   "outputs": [],
   "source": [
    "import json\n",
    "import random\n",
    "from typing import Tuple\n",
    "from collections import defaultdict\n",
    "from copy import deepcopy\n",
    "from tabulate import tabulate"
   ]
  },
  {
   "cell_type": "markdown",
   "metadata": {},
   "source": [
    "# Perturbe Dataset\n",
    "Creates a perturbed dataset by randomly removing relations between entities from the train dataset."
   ]
  },
  {
   "cell_type": "code",
   "execution_count": 9,
   "metadata": {},
   "outputs": [],
   "source": [
    "TRAIN_DATASET_FILE = \"/Users/mfa/code/lavis/jerex-infl/jerex/data/datasets/docred_joint/train_joint.json\"\n",
    "PERTURBED_FILE = \"./data/datasets/docred_joint/train_joint_perturbed_min.json\"\n",
    "REMOVED_REL_FILE = \"./data/datasets/docred_joint/train_joint_removed_rels_min.json\"\n",
    "\n",
    "REMOVE_RELATIONS_PERC = 0.1\n",
    "MINIFIED = True"
   ]
  },
  {
   "cell_type": "code",
   "execution_count": 10,
   "metadata": {},
   "outputs": [],
   "source": [
    "with open(TRAIN_DATASET_FILE, \"r\") as fd:\n",
    "    orig_data = json.load(fd)"
   ]
  },
  {
   "cell_type": "code",
   "execution_count": 11,
   "metadata": {},
   "outputs": [],
   "source": [
    "def relation_stats(dataset):\n",
    "    rels = defaultdict(int)\n",
    "\n",
    "    for doc in dataset:\n",
    "        for relation in doc['labels']:\n",
    "            rels[relation['r']] += 1\n",
    "    \n",
    "    return dict(rels)"
   ]
  },
  {
   "cell_type": "code",
   "execution_count": 12,
   "metadata": {},
   "outputs": [],
   "source": [
    "def minify_dataset(dataset: list) -> list:\n",
    "    cpy = deepcopy(dataset)\n",
    "    cpy = cpy[:10]\n",
    "\n",
    "    return cpy"
   ]
  },
  {
   "cell_type": "code",
   "execution_count": 13,
   "metadata": {},
   "outputs": [],
   "source": [
    "def perturbe_dataset(dataset: list, perc: int = REMOVE_RELATIONS_PERC) -> Tuple[list]:\n",
    "    pert_dataset = deepcopy(dataset)\n",
    "    removed_relations = list()\n",
    "    \n",
    "    for i, doc in enumerate(dataset):\n",
    "        removed_labels = list()\n",
    "\n",
    "        for j in range(len(doc['labels']))[-1::-1]:\n",
    "            if random.random() <= perc:\n",
    "                rel = doc['labels'][j]\n",
    "                removed_labels.append(rel)\n",
    "                pert_dataset[i]['labels'].pop(j)\n",
    "\n",
    "        removed_relations.append(removed_labels)\n",
    "    \n",
    "    assert len(pert_dataset) == len(dataset)\n",
    "\n",
    "    return pert_dataset, removed_relations"
   ]
  },
  {
   "cell_type": "code",
   "execution_count": 23,
   "metadata": {},
   "outputs": [],
   "source": [
    "data = orig_data\n",
    "\n",
    "if MINIFIED:\n",
    "    data = minify_dataset(data)\n",
    "\n",
    "perturbed_dataset, removed_relations = perturbe_dataset(data)"
   ]
  },
  {
   "cell_type": "code",
   "execution_count": 24,
   "metadata": {},
   "outputs": [],
   "source": [
    "orig_rel_stats = relation_stats(orig_data)\n",
    "pert_rel_stats = relation_stats(perturbed_dataset)\n",
    "removed_rels = 0\n",
    "for doc in removed_relations:\n",
    "    removed_rels += len(doc)"
   ]
  },
  {
   "cell_type": "code",
   "execution_count": 25,
   "metadata": {},
   "outputs": [
    {
     "name": "stdout",
     "output_type": "stream",
     "text": [
      "Change in relation counts:\n",
      "-------------------------- \n",
      "\n",
      "Relation      Count (orig)    Count (pert)    Change (percentage)\n",
      "----------  --------------  --------------  ---------------------\n",
      "(Total)              37486              90               0.997599\n",
      "\n",
      "P131                  4063               2               0.999508\n",
      "P1412                  133               6               0.954887\n",
      "P6                     200               1               0.995\n",
      "P17                   8785              12               0.998634\n",
      "P571                   488               2               0.995902\n",
      "P488                    69               4               0.942029\n",
      "P102                   383               4               0.989556\n",
      "P27                   2631               8               0.996959\n",
      "P3373                  322               2               0.993789\n",
      "P19                    466               3               0.993562\n",
      "P20                    189               4               0.978836\n",
      "P569                  1035               3               0.997101\n",
      "P570                   778               3               0.996144\n",
      "P39                     24               1               0.958333\n",
      "P710                   219               1               0.995434\n",
      "P50                    310               9               0.970968\n",
      "P576                    89               2               0.977528\n",
      "P30                    366               5               0.986339\n",
      "P463                   395               3               0.992405\n",
      "P361                   570               1               0.998246\n",
      "P150                  1950               4               0.997949\n",
      "P159                   264               1               0.996212\n",
      "P166                   187               4               0.97861\n",
      "P577                  1121               1               0.999108\n",
      "P800                   157               2               0.987261\n",
      "P127                   198               1               0.994949\n",
      "P161                   622               1               0.998392\n",
      "P1336                   37               0               1\n",
      "P175                  1004               0               1\n",
      "P155                   178               0               1\n",
      "P495                   553               0               1\n",
      "P740                    58               0               1\n",
      "P22                    260               0               1\n",
      "P40                    334               0               1\n",
      "P26                    292               0               1\n",
      "P25                     63               0               1\n",
      "P35                    135               0               1\n",
      "P580                   106               0               1\n",
      "P582                    59               0               1\n",
      "P585                    94               0               1\n",
      "P449                   143               0               1\n",
      "P527                   575               0               1\n",
      "P170                   218               0               1\n",
      "P108                   177               0               1\n",
      "P1441                  332               0               1\n",
      "P179                   159               0               1\n",
      "P57                    243               0               1\n",
      "P58                    147               0               1\n",
      "P674                   184               0               1\n",
      "P162                   122               0               1\n",
      "P364                    75               0               1\n",
      "P178                   217               0               1\n",
      "P123                   185               0               1\n",
      "P400                   270               0               1\n",
      "P272                    90               0               1\n",
      "P69                    303               0               1\n",
      "P137                   106               0               1\n",
      "P118                   174               0               1\n",
      "P276                   199               0               1\n",
      "P206                   210               0               1\n",
      "P706                   142               0               1\n",
      "P140                   157               0               1\n",
      "P676                    19               0               1\n",
      "P264                   640               0               1\n",
      "P241                   117               0               1\n",
      "P607                   283               0               1\n",
      "P156                   173               0               1\n",
      "P54                    397               0               1\n",
      "P194                   171               0               1\n",
      "P937                    84               0               1\n",
      "P1001                  289               0               1\n",
      "P1056                   33               0               1\n",
      "P86                     77               0               1\n",
      "P136                    89               0               1\n",
      "P176                    81               0               1\n",
      "P1344                  228               0               1\n",
      "P112                    92               0               1\n",
      "P355                    81               0               1\n",
      "P279                    79               0               1\n",
      "P31                     96               0               1\n",
      "P36                     75               0               1\n",
      "P1376                   64               0               1\n",
      "P749                    94               0               1\n",
      "P172                    79               0               1\n",
      "P205                    82               0               1\n",
      "P37                    123               0               1\n",
      "P403                   104               0               1\n",
      "P1365                   15               0               1\n",
      "P1366                   26               0               1\n",
      "P171                    79               0               1\n",
      "P840                    49               0               1\n",
      "P737                    16               0               1\n",
      "P551                    31               0               1\n",
      "P1198                    1               0               1\n",
      "P190                     2               0               1\n",
      "P807                     2               0               1\n"
     ]
    }
   ],
   "source": [
    "# for rel in orig_rel_stats:\n",
    "#     assert rel in pert_rel_stats\n",
    "\n",
    "print(\"Change in relation counts:\")\n",
    "print(\"--------------------------\",\"\\n\")\n",
    "\n",
    "headers = [\"Relation\", \"Count (orig)\", \"Count (pert)\", \"Change (percentage)\"]\n",
    "rows = []\n",
    "\n",
    "# total\n",
    "orig_rel_count = sum(orig_rel_stats.values())\n",
    "pert_rel_count = sum(pert_rel_stats.values())\n",
    "removed_perc = 1 - (pert_rel_count / orig_rel_count)\n",
    "rows.append([\"(Total)\", orig_rel_count, pert_rel_count, removed_perc])\n",
    "rows.append([])\n",
    "\n",
    "for rel in orig_rel_stats:\n",
    "    orig_rel_count = orig_rel_stats[rel]\n",
    "    pert_rel_count = 0 if rel not in pert_rel_stats else pert_rel_stats[rel]\n",
    "    removed_perc = 1 - (pert_rel_count / orig_rel_count)\n",
    "    rows.append([rel, orig_rel_count, pert_rel_count, removed_perc])\n",
    "\n",
    "print(tabulate(rows, headers=headers))"
   ]
  },
  {
   "cell_type": "markdown",
   "metadata": {},
   "source": [
    "### Dump perturbed dataset and removed relations"
   ]
  },
  {
   "cell_type": "code",
   "execution_count": 26,
   "metadata": {},
   "outputs": [],
   "source": [
    "with open(PERTURBED_FILE, \"w\") as fd:\n",
    "    json.dump(perturbed_dataset, fd)\n",
    "\n",
    "with open(REMOVED_REL_FILE, \"w\") as fd:\n",
    "    json.dump(removed_relations, fd)"
   ]
  },
  {
   "cell_type": "code",
   "execution_count": null,
   "metadata": {},
   "outputs": [],
   "source": []
  }
 ],
 "metadata": {
  "kernelspec": {
   "display_name": "Python 3.9.13 ('jerex')",
   "language": "python",
   "name": "python3"
  },
  "language_info": {
   "codemirror_mode": {
    "name": "ipython",
    "version": 3
   },
   "file_extension": ".py",
   "mimetype": "text/x-python",
   "name": "python",
   "nbconvert_exporter": "python",
   "pygments_lexer": "ipython3",
   "version": "3.9.13"
  },
  "orig_nbformat": 4,
  "vscode": {
   "interpreter": {
    "hash": "89162253f7923f6dd462dbdd48dd8d51abdc110a06081ad1ec0e3ffad7b96664"
   }
  }
 },
 "nbformat": 4,
 "nbformat_minor": 2
}
