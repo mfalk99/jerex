{
 "cells": [
  {
   "cell_type": "code",
   "execution_count": 1,
   "metadata": {},
   "outputs": [],
   "source": [
    "import json\n",
    "import random\n",
    "from typing import Tuple\n",
    "from collections import defaultdict\n",
    "from copy import deepcopy\n",
    "from tabulate import tabulate"
   ]
  },
  {
   "cell_type": "markdown",
   "metadata": {},
   "source": [
    "# Perturbe Dataset\n",
    "Creates a perturbed dataset by randomly removing relations between entities from the train dataset."
   ]
  },
  {
   "cell_type": "code",
   "execution_count": 2,
   "metadata": {},
   "outputs": [],
   "source": [
    "TRAIN_DATASET_FILE = \"./data/datasets/docred/train_annotated.json\"\n",
    "PERTURBED_FILE = \"./data/datasets/docred/train_annotated_perturbed.json\"\n",
    "REMOVED_REL_FILE = \"./data/datasets/docred/train_annotated_removed_rels.json\"\n",
    "\n",
    "REMOVE_RELATIONS_PERC = 0.1\n",
    "MINIFIED = False"
   ]
  },
  {
   "cell_type": "code",
   "execution_count": 3,
   "metadata": {},
   "outputs": [],
   "source": [
    "with open(TRAIN_DATASET_FILE, \"r\") as fd:\n",
    "    orig_data = json.load(fd)"
   ]
  },
  {
   "cell_type": "code",
   "execution_count": 4,
   "metadata": {},
   "outputs": [],
   "source": [
    "def relation_stats(dataset):\n",
    "    rels = defaultdict(int)\n",
    "\n",
    "    for doc in dataset:\n",
    "        for relation in doc['labels']:\n",
    "            rels[relation['r']] += 1\n",
    "    \n",
    "    return dict(rels)"
   ]
  },
  {
   "cell_type": "code",
   "execution_count": 5,
   "metadata": {},
   "outputs": [],
   "source": [
    "def minify_dataset(dataset: list) -> list:\n",
    "    cpy = deepcopy(dataset)\n",
    "    cpy = cpy[:10]\n",
    "\n",
    "    return cpy"
   ]
  },
  {
   "cell_type": "code",
   "execution_count": 6,
   "metadata": {},
   "outputs": [],
   "source": [
    "def perturbe_dataset(dataset: list, perc: int = REMOVE_RELATIONS_PERC) -> Tuple[list]:\n",
    "    pert_dataset = deepcopy(dataset)\n",
    "    removed_relations = list()\n",
    "    \n",
    "    for i, doc in enumerate(dataset):\n",
    "        removed_labels = list()\n",
    "\n",
    "        for j in range(len(doc['labels']))[-1::-1]:\n",
    "            if random.random() <= perc:\n",
    "                rel = doc['labels'][j]\n",
    "                removed_labels.append(rel)\n",
    "                pert_dataset[i]['labels'].pop(j)\n",
    "\n",
    "        removed_relations.append(removed_labels)\n",
    "    \n",
    "    assert len(pert_dataset) == len(dataset)\n",
    "\n",
    "    return pert_dataset, removed_relations"
   ]
  },
  {
   "cell_type": "code",
   "execution_count": 7,
   "metadata": {},
   "outputs": [],
   "source": [
    "data = orig_data\n",
    "\n",
    "if MINIFIED:\n",
    "    data = minify_dataset(data)\n",
    "\n",
    "perturbed_dataset, removed_relations = perturbe_dataset(data)"
   ]
  },
  {
   "cell_type": "code",
   "execution_count": 8,
   "metadata": {},
   "outputs": [],
   "source": [
    "orig_rel_stats = relation_stats(orig_data)\n",
    "pert_rel_stats = relation_stats(perturbed_dataset)\n",
    "removed_rels = 0\n",
    "for doc in removed_relations:\n",
    "    removed_rels += len(doc)"
   ]
  },
  {
   "cell_type": "code",
   "execution_count": 9,
   "metadata": {},
   "outputs": [
    {
     "name": "stdout",
     "output_type": "stream",
     "text": [
      "Change in relation counts:\n",
      "-------------------------- \n",
      "\n",
      "Relation      Count (orig)    Count (pert)    Change (percentage)\n",
      "----------  --------------  --------------  ---------------------\n",
      "(Total)              38180           34307              0.101441\n",
      "\n",
      "P159                   264             235              0.109848\n",
      "P17                   8921            8001              0.103127\n",
      "P131                  4193            3782              0.0980205\n",
      "P150                  2004            1789              0.107285\n",
      "P27                   2689            2393              0.110078\n",
      "P569                  1044             936              0.103448\n",
      "P19                    511             473              0.074364\n",
      "P172                    79              64              0.189873\n",
      "P571                   475             417              0.122105\n",
      "P576                    79              66              0.164557\n",
      "P607                   275             242              0.12\n",
      "P30                    356             321              0.0983146\n",
      "P276                   172             154              0.104651\n",
      "P1376                   76              66              0.131579\n",
      "P206                   194             174              0.103093\n",
      "P495                   539             483              0.103896\n",
      "P551                    35              32              0.0857143\n",
      "P264                   583             529              0.0926244\n",
      "P527                   632             569              0.0996835\n",
      "P463                   414             378              0.0869565\n",
      "P175                  1052             962              0.0855513\n",
      "P577                  1142            1024              0.103327\n",
      "P161                   621             558              0.101449\n",
      "P403                    95              86              0.0947368\n",
      "P20                    203             185              0.08867\n",
      "P69                    316             275              0.129747\n",
      "P570                   805             726              0.0981366\n",
      "P108                   196             177              0.0969388\n",
      "P166                   173             154              0.109827\n",
      "P6                     210             193              0.0809524\n",
      "P361                   596             531              0.10906\n",
      "P36                     85              78              0.0823529\n",
      "P26                    303             285              0.0594059\n",
      "P25                     74              66              0.108108\n",
      "P22                    273             249              0.0879121\n",
      "P40                    360             330              0.0833333\n",
      "P37                    119             100              0.159664\n",
      "P1412                  155             146              0.0580645\n",
      "P800                   150             136              0.0933333\n",
      "P178                   238             209              0.121849\n",
      "P400                   304             272              0.105263\n",
      "P937                   104              93              0.105769\n",
      "P102                   406             365              0.100985\n",
      "P585                    96              80              0.166667\n",
      "P740                    62              54              0.129032\n",
      "P3373                  335             303              0.0955224\n",
      "P1001                  298             269              0.0973154\n",
      "P57                    246             214              0.130081\n",
      "P58                    156             140              0.102564\n",
      "P272                    82              77              0.0609756\n",
      "P155                   188             170              0.0957447\n",
      "P156                   192             183              0.046875\n",
      "P194                   166             151              0.0903614\n",
      "P241                   108              89              0.175926\n",
      "P127                   208             188              0.0961538\n",
      "P118                   185             161              0.12973\n",
      "P39                     23              22              0.0434783\n",
      "P674                   163             149              0.0858896\n",
      "P179                   144             131              0.0902778\n",
      "P1441                  299             262              0.123746\n",
      "P170                   231             202              0.125541\n",
      "P449                   152             134              0.118421\n",
      "P86                     79              73              0.0759494\n",
      "P488                    63              57              0.0952381\n",
      "P1344                  223             205              0.0807175\n",
      "P580                   110              97              0.118182\n",
      "P582                    51              47              0.0784314\n",
      "P676                    36              32              0.111111\n",
      "P54                    379             343              0.0949868\n",
      "P50                    320             288              0.1\n",
      "P840                    48              44              0.0833333\n",
      "P136                   111              98              0.117117\n",
      "P205                    85              78              0.0823529\n",
      "P706                   137             128              0.0656934\n",
      "P162                   119             109              0.0840336\n",
      "P710                   191             171              0.104712\n",
      "P35                    140             128              0.0857143\n",
      "P140                   144             132              0.0833333\n",
      "P1336                   33              32              0.030303\n",
      "P364                    66              57              0.136364\n",
      "P737                     9               9              0\n",
      "P279                    77              67              0.12987\n",
      "P31                    103              96              0.0679612\n",
      "P137                    95              86              0.0947368\n",
      "P112                   100              95              0.05\n",
      "P123                   172             152              0.116279\n",
      "P176                    83              76              0.0843373\n",
      "P749                    92              85              0.076087\n",
      "P355                    92              84              0.0869565\n",
      "P1198                    2               2              0\n",
      "P171                    75              72              0.04\n",
      "P1056                   36              29              0.194444\n",
      "P1366                   36              30              0.166667\n",
      "P1365                   18              16              0.111111\n",
      "P807                     2               2              0\n",
      "P190                     4               4              0\n"
     ]
    }
   ],
   "source": [
    "# for rel in orig_rel_stats:\n",
    "#     assert rel in pert_rel_stats\n",
    "\n",
    "print(\"Change in relation counts:\")\n",
    "print(\"--------------------------\",\"\\n\")\n",
    "\n",
    "headers = [\"Relation\", \"Count (orig)\", \"Count (pert)\", \"Change (percentage)\"]\n",
    "rows = []\n",
    "\n",
    "# total\n",
    "orig_rel_count = sum(orig_rel_stats.values())\n",
    "pert_rel_count = sum(pert_rel_stats.values())\n",
    "removed_perc = 1 - (pert_rel_count / orig_rel_count)\n",
    "rows.append([\"(Total)\", orig_rel_count, pert_rel_count, removed_perc])\n",
    "rows.append([])\n",
    "\n",
    "for rel in orig_rel_stats:\n",
    "    orig_rel_count = orig_rel_stats[rel]\n",
    "    pert_rel_count = 0 if rel not in pert_rel_stats else pert_rel_stats[rel]\n",
    "    removed_perc = 1 - (pert_rel_count / orig_rel_count)\n",
    "    rows.append([rel, orig_rel_count, pert_rel_count, removed_perc])\n",
    "\n",
    "print(tabulate(rows, headers=headers))"
   ]
  },
  {
   "cell_type": "markdown",
   "metadata": {},
   "source": [
    "### Dump perturbed dataset and removed relations"
   ]
  },
  {
   "cell_type": "code",
   "execution_count": 10,
   "metadata": {},
   "outputs": [],
   "source": [
    "with open(PERTURBED_FILE, \"w\") as fd:\n",
    "    json.dump(perturbed_dataset, fd)\n",
    "\n",
    "with open(REMOVED_REL_FILE, \"w\") as fd:\n",
    "    json.dump(removed_relations, fd)"
   ]
  },
  {
   "cell_type": "code",
   "execution_count": null,
   "metadata": {},
   "outputs": [],
   "source": []
  }
 ],
 "metadata": {
  "kernelspec": {
   "display_name": "Python 3.9.13 ('jerex')",
   "language": "python",
   "name": "python3"
  },
  "language_info": {
   "codemirror_mode": {
    "name": "ipython",
    "version": 3
   },
   "file_extension": ".py",
   "mimetype": "text/x-python",
   "name": "python",
   "nbconvert_exporter": "python",
   "pygments_lexer": "ipython3",
   "version": "3.9.13"
  },
  "orig_nbformat": 4,
  "vscode": {
   "interpreter": {
    "hash": "89162253f7923f6dd462dbdd48dd8d51abdc110a06081ad1ec0e3ffad7b96664"
   }
  }
 },
 "nbformat": 4,
 "nbformat_minor": 2
}
